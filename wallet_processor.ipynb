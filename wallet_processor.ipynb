{
 "cells": [
  {
   "cell_type": "code",
   "execution_count": 1,
   "source": [
    "from pyspark.sql import SparkSession\n",
    "from pyspark.ml.feature import VectorAssembler"
   ],
   "outputs": [],
   "metadata": {}
  },
  {
   "cell_type": "code",
   "execution_count": 2,
   "source": [
    "spark = SparkSession \\\n",
    "    .builder \\\n",
    "    .appName(\"Python Spark SQL basic example\") \\\n",
    "    .getOrCreate()\n",
    "sc = spark.sparkContext\n",
    "\n",
    "# A JSON dataset is pointed to by path.\n",
    "# The path can be either a single text file or a directory storing text files"
   ],
   "outputs": [
    {
     "output_type": "stream",
     "name": "stderr",
     "text": [
      "WARNING: An illegal reflective access operation has occurred\n",
      "WARNING: Illegal reflective access by org.apache.spark.unsafe.Platform (file:/Users/di3go/Desktop/bitcoin-viz/venv/lib/python3.9/site-packages/pyspark/jars/spark-unsafe_2.12-3.1.2.jar) to constructor java.nio.DirectByteBuffer(long,int)\n",
      "WARNING: Please consider reporting this to the maintainers of org.apache.spark.unsafe.Platform\n",
      "WARNING: Use --illegal-access=warn to enable warnings of further illegal reflective access operations\n",
      "WARNING: All illegal access operations will be denied in a future release\n",
      "21/09/29 23:21:13 WARN NativeCodeLoader: Unable to load native-hadoop library for your platform... using builtin-java classes where applicable\n",
      "Using Spark's default log4j profile: org/apache/spark/log4j-defaults.properties\n",
      "Setting default log level to \"WARN\".\n",
      "To adjust logging level use sc.setLogLevel(newLevel). For SparkR, use setLogLevel(newLevel).\n"
     ]
    }
   ],
   "metadata": {}
  },
  {
   "cell_type": "code",
   "execution_count": 3,
   "source": [
    "path = \"wallets_test\"\n",
    "path = \"wallets\"\n",
    "wallets_df = spark.read.json(path)\n",
    "\n",
    "wallets = wallets_df.rdd.map(lambda w: w.asDict(True)) "
   ],
   "outputs": [
    {
     "output_type": "stream",
     "name": "stderr",
     "text": [
      "21/09/29 23:21:24 WARN SharedInMemoryCache: Evicting cached table partition metadata from memory due to size constraints (spark.sql.hive.filesourcePartitionFileCacheSize = 262144000 bytes). This may impact query planning performance.\n"
     ]
    }
   ],
   "metadata": {}
  },
  {
   "cell_type": "code",
   "execution_count": 4,
   "source": [
    "wallet_transactions = wallets.flatMap(lambda w:  [ (w['address'], tx) for tx in w['txs'] or [] ] ) \\\n",
    "                                .map(lambda w:  (w[0], (w[1].get('incoming'), w[1].get('outgoing'))  ))\n",
    "\n",
    "\n",
    "balance = wallets.map(lambda w: (w['address'], float(w['balance'] or 0)))\n",
    "received_value = wallets.map(lambda w: (w['address'], float(w['received_value'] or 0 )))\n",
    "total_txs = wallets.map(lambda w: (w['address'], float(w['total_txs'] or 0)  ))\n",
    "txs_in  = wallet_transactions.mapValues(lambda w:   w[0] ).filter(lambda w: w[1] is not None)\n",
    "txs_out = wallet_transactions.mapValues(lambda w:   w[1] ).filter(lambda w: w[1] is not None)\n",
    "\n",
    "a_in  = txs_in.flatMapValues(lambda tx: tx.get('inputs',[])).mapValues(lambda tx: tx['address'])\n",
    "a_out = txs_out.flatMapValues(lambda tx: tx.get('outputs',[])).mapValues(lambda tx: tx['address'])\n",
    "\n",
    "v_in  = txs_in.mapValues(lambda w:    float(w['value'] or 0) )\n",
    "v_out = txs_out.mapValues(lambda w:   float(w['value'] or 0) )\n",
    "\n",
    "# features\n",
    "\n",
    "avg_vin = v_in.mapValues(lambda v: (v,1)).reduceByKey(lambda a,b: (a[0]+b[0], a[1]+b[1] )).mapValues(lambda x: x[0]/x[1])\n",
    "avg_vout =  v_out.mapValues(lambda v: (v,1)).reduceByKey(lambda a,b: (a[0]+b[0], a[1]+b[1] )).mapValues(lambda x: x[0]/x[1])\n",
    "\n",
    "var_vin = v_in.join(avg_vin).mapValues(lambda v: ((v[0]-v[1])**2,1)).reduceByKey(lambda a,b: (a[0]+b[0], a[1]+b[1] )).mapValues(lambda x: x[0]/x[1])\n",
    "var_vout =  v_out.join(avg_vout).mapValues(lambda v: ((v[0]-v[1])**2,1)).reduceByKey(lambda a,b: (a[0]+b[0], a[1]+b[1] )).mapValues(lambda x: x[0]/x[1])\n",
    "\n",
    "unique_deg_in = a_in.mapValues( lambda x: {x}).reduceByKey((lambda a, b: a.union(b))).mapValues(len)\n",
    "unique_deg_out = a_out.mapValues( lambda x: {x}).reduceByKey((lambda a, b: a.union(b))).mapValues(len)\n",
    "\n",
    "deg_in = a_in.mapValues(lambda x: 1).reduceByKey(lambda a, b: a + b)\n",
    "deg_out = a_out.mapValues(lambda x: 1).reduceByKey(lambda a, b: a + b)\n",
    "\n",
    "# unique_deg_in.collect(), deg_in.collect()\n",
    "v_in.first(), v_out.first()"
   ],
   "outputs": [
    {
     "output_type": "stream",
     "name": "stderr",
     "text": []
    },
    {
     "output_type": "execute_result",
     "data": {
      "text/plain": [
       "(('1KTpWQBcBFCwoRSxtdj7TAs24ip4mitaRU', 1.0),\n",
       " ('1KTpWQBcBFCwoRSxtdj7TAs24ip4mitaRU', 1.0))"
      ]
     },
     "metadata": {},
     "execution_count": 4
    }
   ],
   "metadata": {}
  },
  {
   "cell_type": "code",
   "execution_count": 5,
   "source": [
    "rdds = [ avg_vin, avg_vout, var_vin, var_vout, unique_deg_in, unique_deg_out, deg_in, deg_out, balance, received_value, total_txs]\n",
    "names = [ 'avg_vin', 'avg_vout', 'var_vin', 'var_vout', 'unique_deg_in', 'unique_deg_out', 'deg_in', 'deg_out', 'balance', 'received_value', 'total_txs']\n",
    "\n",
    "final_df = None\n",
    "for rdd, name in zip(rdds, names):\n",
    "    df = rdd.toDF(['addr', name ])\n",
    "    print(df)\n",
    "    if final_df is None:\n",
    "        final_df = df\n",
    "    else:\n",
    "        final_df = final_df.join(df,'addr', 'outer')"
   ],
   "outputs": [
    {
     "output_type": "stream",
     "name": "stderr",
     "text": []
    },
    {
     "output_type": "stream",
     "name": "stdout",
     "text": [
      "DataFrame[addr: string, avg_vin: double]\n"
     ]
    },
    {
     "output_type": "stream",
     "name": "stderr",
     "text": []
    },
    {
     "output_type": "stream",
     "name": "stdout",
     "text": [
      "DataFrame[addr: string, avg_vout: double]\n"
     ]
    },
    {
     "output_type": "stream",
     "name": "stderr",
     "text": []
    },
    {
     "output_type": "stream",
     "name": "stdout",
     "text": [
      "DataFrame[addr: string, var_vin: double]\n"
     ]
    },
    {
     "output_type": "stream",
     "name": "stderr",
     "text": []
    },
    {
     "output_type": "stream",
     "name": "stdout",
     "text": [
      "DataFrame[addr: string, var_vout: double]\n"
     ]
    },
    {
     "output_type": "stream",
     "name": "stderr",
     "text": []
    },
    {
     "output_type": "stream",
     "name": "stdout",
     "text": [
      "DataFrame[addr: string, unique_deg_in: bigint]\n"
     ]
    },
    {
     "output_type": "stream",
     "name": "stderr",
     "text": []
    },
    {
     "output_type": "stream",
     "name": "stdout",
     "text": [
      "DataFrame[addr: string, unique_deg_out: bigint]\n"
     ]
    },
    {
     "output_type": "stream",
     "name": "stderr",
     "text": []
    },
    {
     "output_type": "stream",
     "name": "stdout",
     "text": [
      "DataFrame[addr: string, deg_in: bigint]\n"
     ]
    },
    {
     "output_type": "stream",
     "name": "stderr",
     "text": []
    },
    {
     "output_type": "stream",
     "name": "stdout",
     "text": [
      "DataFrame[addr: string, deg_out: bigint]\n",
      "DataFrame[addr: string, balance: double]\n",
      "DataFrame[addr: string, received_value: double]\n",
      "DataFrame[addr: string, total_txs: double]\n"
     ]
    }
   ],
   "metadata": {}
  },
  {
   "cell_type": "code",
   "execution_count": 6,
   "source": [
    "pandas_df = final_df.fillna(0).toPandas()\n",
    "pandas_df"
   ],
   "outputs": [
    {
     "output_type": "stream",
     "name": "stderr",
     "text": []
    },
    {
     "output_type": "execute_result",
     "data": {
      "text/html": [
       "<div>\n",
       "<style scoped>\n",
       "    .dataframe tbody tr th:only-of-type {\n",
       "        vertical-align: middle;\n",
       "    }\n",
       "\n",
       "    .dataframe tbody tr th {\n",
       "        vertical-align: top;\n",
       "    }\n",
       "\n",
       "    .dataframe thead th {\n",
       "        text-align: right;\n",
       "    }\n",
       "</style>\n",
       "<table border=\"1\" class=\"dataframe\">\n",
       "  <thead>\n",
       "    <tr style=\"text-align: right;\">\n",
       "      <th></th>\n",
       "      <th>addr</th>\n",
       "      <th>avg_vin</th>\n",
       "      <th>avg_vout</th>\n",
       "      <th>var_vin</th>\n",
       "      <th>var_vout</th>\n",
       "      <th>unique_deg_in</th>\n",
       "      <th>unique_deg_out</th>\n",
       "      <th>deg_in</th>\n",
       "      <th>deg_out</th>\n",
       "      <th>balance</th>\n",
       "      <th>received_value</th>\n",
       "      <th>total_txs</th>\n",
       "    </tr>\n",
       "  </thead>\n",
       "  <tbody>\n",
       "    <tr>\n",
       "      <th>0</th>\n",
       "      <td>112NDgsBxonbMHKe4NqrCzuaBMDzTj66Ax</td>\n",
       "      <td>0.004581</td>\n",
       "      <td>0.004668</td>\n",
       "      <td>1.310102e-05</td>\n",
       "      <td>0.000013</td>\n",
       "      <td>21</td>\n",
       "      <td>26</td>\n",
       "      <td>32</td>\n",
       "      <td>50</td>\n",
       "      <td>0.000194</td>\n",
       "      <td>0.322902</td>\n",
       "      <td>40.0</td>\n",
       "    </tr>\n",
       "    <tr>\n",
       "      <th>1</th>\n",
       "      <td>115xveCM7QPtDMZThzCz9t6Cgh8mVqdNLr</td>\n",
       "      <td>0.001980</td>\n",
       "      <td>0.000000</td>\n",
       "      <td>0.000000e+00</td>\n",
       "      <td>0.000000</td>\n",
       "      <td>3</td>\n",
       "      <td>0</td>\n",
       "      <td>3</td>\n",
       "      <td>0</td>\n",
       "      <td>0.001980</td>\n",
       "      <td>0.001980</td>\n",
       "      <td>1.0</td>\n",
       "    </tr>\n",
       "    <tr>\n",
       "      <th>2</th>\n",
       "      <td>125ycExUXrps7Zh5YJGwnwWPWzHhw8dnmQ</td>\n",
       "      <td>0.009331</td>\n",
       "      <td>0.010922</td>\n",
       "      <td>7.240660e-05</td>\n",
       "      <td>0.000152</td>\n",
       "      <td>49</td>\n",
       "      <td>23</td>\n",
       "      <td>54</td>\n",
       "      <td>23</td>\n",
       "      <td>0.013890</td>\n",
       "      <td>23.612875</td>\n",
       "      <td>1133.0</td>\n",
       "    </tr>\n",
       "    <tr>\n",
       "      <th>3</th>\n",
       "      <td>12crW4pQ4ZJ3naUcB4fXDGzLM3gPLNAFuD</td>\n",
       "      <td>0.003444</td>\n",
       "      <td>0.002080</td>\n",
       "      <td>1.069924e-05</td>\n",
       "      <td>0.000003</td>\n",
       "      <td>6</td>\n",
       "      <td>1</td>\n",
       "      <td>6</td>\n",
       "      <td>4</td>\n",
       "      <td>0.012343</td>\n",
       "      <td>0.020664</td>\n",
       "      <td>6.0</td>\n",
       "    </tr>\n",
       "    <tr>\n",
       "      <th>4</th>\n",
       "      <td>12nUtx4AT1unn64ihiXPawwBUeNnz2oH4M</td>\n",
       "      <td>0.001023</td>\n",
       "      <td>0.001023</td>\n",
       "      <td>0.000000e+00</td>\n",
       "      <td>0.000000</td>\n",
       "      <td>1</td>\n",
       "      <td>2</td>\n",
       "      <td>1</td>\n",
       "      <td>2</td>\n",
       "      <td>0.000000</td>\n",
       "      <td>0.001023</td>\n",
       "      <td>1.0</td>\n",
       "    </tr>\n",
       "    <tr>\n",
       "      <th>...</th>\n",
       "      <td>...</td>\n",
       "      <td>...</td>\n",
       "      <td>...</td>\n",
       "      <td>...</td>\n",
       "      <td>...</td>\n",
       "      <td>...</td>\n",
       "      <td>...</td>\n",
       "      <td>...</td>\n",
       "      <td>...</td>\n",
       "      <td>...</td>\n",
       "      <td>...</td>\n",
       "      <td>...</td>\n",
       "    </tr>\n",
       "    <tr>\n",
       "      <th>148417</th>\n",
       "      <td>bc1qzhrhkew8zemfzkv3flpynsxcwnxgrgthhq50dp</td>\n",
       "      <td>0.001142</td>\n",
       "      <td>0.000000</td>\n",
       "      <td>6.442600e-09</td>\n",
       "      <td>0.000000</td>\n",
       "      <td>30</td>\n",
       "      <td>0</td>\n",
       "      <td>31</td>\n",
       "      <td>0</td>\n",
       "      <td>0.035407</td>\n",
       "      <td>0.035407</td>\n",
       "      <td>31.0</td>\n",
       "    </tr>\n",
       "    <tr>\n",
       "      <th>148418</th>\n",
       "      <td>bc1qznjfu7ka20nuvpzxeehw36gk87lcqd7t774sjn</td>\n",
       "      <td>0.312495</td>\n",
       "      <td>0.000000</td>\n",
       "      <td>0.000000e+00</td>\n",
       "      <td>0.000000</td>\n",
       "      <td>1</td>\n",
       "      <td>0</td>\n",
       "      <td>1</td>\n",
       "      <td>0</td>\n",
       "      <td>0.312495</td>\n",
       "      <td>0.312495</td>\n",
       "      <td>1.0</td>\n",
       "    </tr>\n",
       "    <tr>\n",
       "      <th>148419</th>\n",
       "      <td>bc1qzqn0tzqfrglg3yml384mwh0x8vh7rxkclxje93</td>\n",
       "      <td>0.005879</td>\n",
       "      <td>0.005879</td>\n",
       "      <td>0.000000e+00</td>\n",
       "      <td>0.000000</td>\n",
       "      <td>1</td>\n",
       "      <td>1</td>\n",
       "      <td>1</td>\n",
       "      <td>1</td>\n",
       "      <td>0.000000</td>\n",
       "      <td>0.005879</td>\n",
       "      <td>1.0</td>\n",
       "    </tr>\n",
       "    <tr>\n",
       "      <th>148420</th>\n",
       "      <td>bc1qztlsjvhyefc720trc6nk8pzvgzv2em6ava0pfz</td>\n",
       "      <td>0.001475</td>\n",
       "      <td>0.001475</td>\n",
       "      <td>0.000000e+00</td>\n",
       "      <td>0.000000</td>\n",
       "      <td>1</td>\n",
       "      <td>2</td>\n",
       "      <td>1</td>\n",
       "      <td>2</td>\n",
       "      <td>0.000000</td>\n",
       "      <td>0.001475</td>\n",
       "      <td>1.0</td>\n",
       "    </tr>\n",
       "    <tr>\n",
       "      <th>148421</th>\n",
       "      <td>bc1qzzzncst3z64z2affnesxsvagyxuylqzfea9g7q</td>\n",
       "      <td>0.004591</td>\n",
       "      <td>0.079593</td>\n",
       "      <td>9.311521e-05</td>\n",
       "      <td>0.011918</td>\n",
       "      <td>121</td>\n",
       "      <td>9</td>\n",
       "      <td>132</td>\n",
       "      <td>9</td>\n",
       "      <td>0.007000</td>\n",
       "      <td>0.973073</td>\n",
       "      <td>90.0</td>\n",
       "    </tr>\n",
       "  </tbody>\n",
       "</table>\n",
       "<p>148422 rows × 12 columns</p>\n",
       "</div>"
      ],
      "text/plain": [
       "                                              addr   avg_vin  avg_vout  \\\n",
       "0               112NDgsBxonbMHKe4NqrCzuaBMDzTj66Ax  0.004581  0.004668   \n",
       "1               115xveCM7QPtDMZThzCz9t6Cgh8mVqdNLr  0.001980  0.000000   \n",
       "2               125ycExUXrps7Zh5YJGwnwWPWzHhw8dnmQ  0.009331  0.010922   \n",
       "3               12crW4pQ4ZJ3naUcB4fXDGzLM3gPLNAFuD  0.003444  0.002080   \n",
       "4               12nUtx4AT1unn64ihiXPawwBUeNnz2oH4M  0.001023  0.001023   \n",
       "...                                            ...       ...       ...   \n",
       "148417  bc1qzhrhkew8zemfzkv3flpynsxcwnxgrgthhq50dp  0.001142  0.000000   \n",
       "148418  bc1qznjfu7ka20nuvpzxeehw36gk87lcqd7t774sjn  0.312495  0.000000   \n",
       "148419  bc1qzqn0tzqfrglg3yml384mwh0x8vh7rxkclxje93  0.005879  0.005879   \n",
       "148420  bc1qztlsjvhyefc720trc6nk8pzvgzv2em6ava0pfz  0.001475  0.001475   \n",
       "148421  bc1qzzzncst3z64z2affnesxsvagyxuylqzfea9g7q  0.004591  0.079593   \n",
       "\n",
       "             var_vin  var_vout  unique_deg_in  unique_deg_out  deg_in  \\\n",
       "0       1.310102e-05  0.000013             21              26      32   \n",
       "1       0.000000e+00  0.000000              3               0       3   \n",
       "2       7.240660e-05  0.000152             49              23      54   \n",
       "3       1.069924e-05  0.000003              6               1       6   \n",
       "4       0.000000e+00  0.000000              1               2       1   \n",
       "...              ...       ...            ...             ...     ...   \n",
       "148417  6.442600e-09  0.000000             30               0      31   \n",
       "148418  0.000000e+00  0.000000              1               0       1   \n",
       "148419  0.000000e+00  0.000000              1               1       1   \n",
       "148420  0.000000e+00  0.000000              1               2       1   \n",
       "148421  9.311521e-05  0.011918            121               9     132   \n",
       "\n",
       "        deg_out   balance  received_value  total_txs  \n",
       "0            50  0.000194        0.322902       40.0  \n",
       "1             0  0.001980        0.001980        1.0  \n",
       "2            23  0.013890       23.612875     1133.0  \n",
       "3             4  0.012343        0.020664        6.0  \n",
       "4             2  0.000000        0.001023        1.0  \n",
       "...         ...       ...             ...        ...  \n",
       "148417        0  0.035407        0.035407       31.0  \n",
       "148418        0  0.312495        0.312495        1.0  \n",
       "148419        1  0.000000        0.005879        1.0  \n",
       "148420        2  0.000000        0.001475        1.0  \n",
       "148421        9  0.007000        0.973073       90.0  \n",
       "\n",
       "[148422 rows x 12 columns]"
      ]
     },
     "metadata": {},
     "execution_count": 6
    }
   ],
   "metadata": {}
  },
  {
   "cell_type": "code",
   "execution_count": 7,
   "source": [
    "from database import *\n",
    "\n",
    "pandas_df.to_sql('wallets_meta', engine,  if_exists='replace', index=False, )"
   ],
   "outputs": [],
   "metadata": {}
  },
  {
   "cell_type": "markdown",
   "source": [
    "### Machine Learning\n",
    "Here there is code for PCA + KMeans"
   ],
   "metadata": {}
  },
  {
   "cell_type": "code",
   "execution_count": 8,
   "source": [
    "import sklearn.preprocessing\n",
    "import pandas as pd\n",
    "import numpy as np\n",
    "pandas_df = pd.read_sql_table('wallets', engine)\n",
    "\n",
    "data = pandas_df.loc[:, pandas_df.columns != 'addr'].to_numpy()\n",
    "norm_data = sklearn.preprocessing.normalize(data)"
   ],
   "outputs": [],
   "metadata": {}
  },
  {
   "cell_type": "code",
   "execution_count": 9,
   "source": [
    "from sklearn.decomposition import PCA\n",
    "\n",
    "pca = PCA(2)\n",
    "pca = pca.fit(norm_data)\n",
    "pca_coords = pca.transform(norm_data)\n",
    "\n",
    "_addrs = pandas_df['addr'].to_numpy()\n",
    "addrs = np.expand_dims(_addrs,1)\n",
    "\n",
    "\n",
    "pca_data = np.concatenate([addrs,pca_coords ], axis=1)\n",
    "pca_data_df = pd.DataFrame(pca_data, columns=['addr', 'pca_1', 'pca_2'])\n",
    "\n",
    "pca_data_df.to_sql('wallets_pca', engine,  if_exists='replace', index=False )\n"
   ],
   "outputs": [],
   "metadata": {}
  },
  {
   "cell_type": "code",
   "execution_count": 10,
   "source": [
    "from sklearn.cluster import KMeans\n",
    "\n",
    "kmeans = KMeans(6)\n",
    "kmeans.fit(norm_data)\n",
    "color_number = kmeans.predict(norm_data)\n",
    "\n",
    "colors = [ ['r','g','b','y','m','k'][i] for i in color_number]\n",
    "# print(colors)"
   ],
   "outputs": [],
   "metadata": {}
  },
  {
   "cell_type": "code",
   "execution_count": 11,
   "source": [
    "import matplotlib.pyplot as plt\n",
    "plt.figure(figsize=(20,20))\n",
    "plt.scatter(*grid.T, c=colors, alpha=0.1)"
   ],
   "outputs": [
    {
     "output_type": "error",
     "ename": "NameError",
     "evalue": "name 'grid' is not defined",
     "traceback": [
      "\u001b[0;31m---------------------------------------------------------------------------\u001b[0m",
      "\u001b[0;31mNameError\u001b[0m                                 Traceback (most recent call last)",
      "\u001b[0;32m/var/folders/9m/h6m5vqfn44v83wm2lb7pqb_00000gn/T/ipykernel_20519/3096018670.py\u001b[0m in \u001b[0;36m<module>\u001b[0;34m\u001b[0m\n\u001b[1;32m      1\u001b[0m \u001b[0;32mimport\u001b[0m \u001b[0mmatplotlib\u001b[0m\u001b[0;34m.\u001b[0m\u001b[0mpyplot\u001b[0m \u001b[0;32mas\u001b[0m \u001b[0mplt\u001b[0m\u001b[0;34m\u001b[0m\u001b[0;34m\u001b[0m\u001b[0m\n\u001b[1;32m      2\u001b[0m \u001b[0mplt\u001b[0m\u001b[0;34m.\u001b[0m\u001b[0mfigure\u001b[0m\u001b[0;34m(\u001b[0m\u001b[0mfigsize\u001b[0m\u001b[0;34m=\u001b[0m\u001b[0;34m(\u001b[0m\u001b[0;36m20\u001b[0m\u001b[0;34m,\u001b[0m\u001b[0;36m20\u001b[0m\u001b[0;34m)\u001b[0m\u001b[0;34m)\u001b[0m\u001b[0;34m\u001b[0m\u001b[0;34m\u001b[0m\u001b[0m\n\u001b[0;32m----> 3\u001b[0;31m \u001b[0mplt\u001b[0m\u001b[0;34m.\u001b[0m\u001b[0mscatter\u001b[0m\u001b[0;34m(\u001b[0m\u001b[0;34m*\u001b[0m\u001b[0mgrid\u001b[0m\u001b[0;34m.\u001b[0m\u001b[0mT\u001b[0m\u001b[0;34m,\u001b[0m \u001b[0mc\u001b[0m\u001b[0;34m=\u001b[0m\u001b[0mcolors\u001b[0m\u001b[0;34m,\u001b[0m \u001b[0malpha\u001b[0m\u001b[0;34m=\u001b[0m\u001b[0;36m0.1\u001b[0m\u001b[0;34m)\u001b[0m\u001b[0;34m\u001b[0m\u001b[0;34m\u001b[0m\u001b[0m\n\u001b[0m",
      "\u001b[0;31mNameError\u001b[0m: name 'grid' is not defined"
     ]
    },
    {
     "output_type": "display_data",
     "data": {
      "text/plain": [
       "<Figure size 1440x1440 with 0 Axes>"
      ]
     },
     "metadata": {}
    }
   ],
   "metadata": {}
  }
 ],
 "metadata": {
  "orig_nbformat": 4,
  "language_info": {
   "name": "python",
   "version": "3.9.7",
   "mimetype": "text/x-python",
   "codemirror_mode": {
    "name": "ipython",
    "version": 3
   },
   "pygments_lexer": "ipython3",
   "nbconvert_exporter": "python",
   "file_extension": ".py"
  },
  "kernelspec": {
   "name": "python3",
   "display_name": "Python 3.9.7 64-bit ('venv': venv)"
  },
  "interpreter": {
   "hash": "d9527fc335a184afa4be33f8fd6b35650add2817d9721d60af9d197c62cf899b"
  }
 },
 "nbformat": 4,
 "nbformat_minor": 2
}