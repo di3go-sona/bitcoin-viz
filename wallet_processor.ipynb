{
 "cells": [
  {
   "cell_type": "code",
   "execution_count": 1,
   "source": [
    "from pyspark.sql import SparkSession\n",
    "from pyspark.ml.feature import VectorAssembler"
   ],
   "outputs": [],
   "metadata": {}
  },
  {
   "cell_type": "code",
   "execution_count": 2,
   "source": [
    "spark = SparkSession \\\n",
    "    .builder \\\n",
    "    .appName(\"Python Spark SQL basic example\") \\\n",
    "    .getOrCreate()\n",
    "sc = spark.sparkContext\n",
    "\n",
    "# A JSON dataset is pointed to by path.\n",
    "# The path can be either a single text file or a directory storing text files\n"
   ],
   "outputs": [
    {
     "output_type": "stream",
     "name": "stderr",
     "text": [
      "WARNING: An illegal reflective access operation has occurred\n",
      "WARNING: Illegal reflective access by org.apache.spark.unsafe.Platform (file:/Users/di3go/Desktop/bitcoin-viz/venv/lib/python3.9/site-packages/pyspark/jars/spark-unsafe_2.12-3.1.2.jar) to constructor java.nio.DirectByteBuffer(long,int)\n",
      "WARNING: Please consider reporting this to the maintainers of org.apache.spark.unsafe.Platform\n",
      "WARNING: Use --illegal-access=warn to enable warnings of further illegal reflective access operations\n",
      "WARNING: All illegal access operations will be denied in a future release\n",
      "21/09/20 18:23:01 WARN NativeCodeLoader: Unable to load native-hadoop library for your platform... using builtin-java classes where applicable\n",
      "Using Spark's default log4j profile: org/apache/spark/log4j-defaults.properties\n",
      "Setting default log level to \"WARN\".\n",
      "To adjust logging level use sc.setLogLevel(newLevel). For SparkR, use setLogLevel(newLevel).\n"
     ]
    }
   ],
   "metadata": {}
  },
  {
   "cell_type": "code",
   "execution_count": 3,
   "source": [
    "path = \"wallets_test\"\n",
    "# path = \"wallets\"\n",
    "wallets_df = spark.read.json(path)\n",
    "\n",
    "wallets = wallets_df.rdd.map(lambda w:    w.asDict(True)  ) \n"
   ],
   "outputs": [
    {
     "output_type": "stream",
     "name": "stderr",
     "text": []
    }
   ],
   "metadata": {}
  },
  {
   "cell_type": "code",
   "execution_count": 4,
   "source": [
    "wallet_transactions = wallets.flatMap(lambda w:  [ (w['address'], tx) for tx in w['txs'] or [] ] ) \\\n",
    "                                .map(lambda w:  (w[0], (w[1].get('incoming' ), w[1].get('outgoing' ))  ))\n",
    "\n",
    "\n",
    "balance = wallets.map(lambda w: (w['address'], float(w['balance'])  ))\n",
    "received_value = wallets.map(lambda w: (w['address'], float(w['received_value'])  ))\n",
    "total_txs = wallets.map(lambda w: (w['address'], float(w['total_txs'])  ))\n",
    "txs_in =  wallet_transactions.mapValues(lambda w:   w[0]  ).filter(lambda w: w[1] is not None)\n",
    "txs_out = wallet_transactions.mapValues(lambda w:   w[1]  ).filter(lambda w: w[1] is not None)\n",
    "\n",
    "a_in = txs_in.flatMapValues(lambda tx: tx.get('inputs',[])).mapValues(lambda tx: tx['address'] )\n",
    "a_out = txs_out.flatMapValues(lambda tx: tx.get('outputs',[])).mapValues(lambda tx: tx['address'] )\n",
    "\n",
    "v_in = txs_in.mapValues(lambda w:    float(w.get('value', 0)) )\n",
    "v_out = txs_out.mapValues(lambda w:   float(w.get('value', 0)) )\n",
    "\n",
    "# features\n",
    "\n",
    "avg_vin = v_in.mapValues(lambda v: (v,1)).reduceByKey(lambda a,b: (a[0]+b[0], a[1]+b[1] )).mapValues(lambda x: x[0]/x[1])\n",
    "avg_vout =  v_out.mapValues(lambda v: (v,1)).reduceByKey(lambda a,b: (a[0]+b[0], a[1]+b[1] )).mapValues(lambda x: x[0]/x[1])\n",
    "\n",
    "var_vin = v_in.join(avg_vin).mapValues(lambda v: ((v[0]-v[1])**2,1)).reduceByKey(lambda a,b: (a[0]+b[0], a[1]+b[1] )).mapValues(lambda x: x[0]/x[1])\n",
    "var_vout =  v_out.join(avg_vout).mapValues(lambda v: ((v[0]-v[1])**2,1)).reduceByKey(lambda a,b: (a[0]+b[0], a[1]+b[1] )).mapValues(lambda x: x[0]/x[1])\n",
    "\n",
    "unique_deg_in = a_in.mapValues( lambda x: {x}).reduceByKey((lambda a, b: a.union(b))).mapValues(len)\n",
    "unique_deg_out = a_out.mapValues( lambda x: {x}).reduceByKey((lambda a, b: a.union(b))).mapValues(len)\n",
    "\n",
    "deg_in = a_in.mapValues(lambda x: 1).reduceByKey(lambda a, b: a + b)\n",
    "deg_out = a_out.mapValues(lambda x: 1).reduceByKey(lambda a, b: a + b)\n",
    "\n",
    "# unique_deg_in.collect(), deg_in.collect()\n",
    "v_in.first(), v_out.first()"
   ],
   "outputs": [
    {
     "output_type": "stream",
     "name": "stderr",
     "text": []
    },
    {
     "output_type": "execute_result",
     "data": {
      "text/plain": [
       "(('1A6HyDLS5nVtoL4Vt8hYhPKyPFm1ZDWH5a', 0.01254508),\n",
       " ('1A6HyDLS5nVtoL4Vt8hYhPKyPFm1ZDWH5a', 0.0321144))"
      ]
     },
     "metadata": {},
     "execution_count": 4
    }
   ],
   "metadata": {}
  },
  {
   "cell_type": "code",
   "execution_count": 5,
   "source": [
    "rdds = [ avg_vin, avg_vout, var_vin, var_vout, unique_deg_in, unique_deg_out, deg_in, deg_out, balance, received_value, total_txs]\n",
    "names = [ 'avg_vin', 'avg_vout', 'var_vin', 'var_vout', 'unique_deg_in', 'unique_deg_out', 'deg_in', 'deg_out', 'balance', 'received_value', 'total_txs']\n",
    "\n",
    "\n",
    "\n",
    "final_df = None\n",
    "for  rdd, name in zip(rdds,names):\n",
    "    df = rdd.toDF(['addr', name ])\n",
    "    print(df)\n",
    "    if final_df is None:\n",
    "        final_df = df\n",
    "    else:\n",
    "        final_df = final_df.join(df,'addr', 'outer')\n",
    "\n"
   ],
   "outputs": [
    {
     "output_type": "stream",
     "name": "stderr",
     "text": []
    },
    {
     "output_type": "stream",
     "name": "stdout",
     "text": [
      "DataFrame[addr: string, avg_vin: double]\n",
      "DataFrame[addr: string, avg_vout: double]\n"
     ]
    },
    {
     "output_type": "stream",
     "name": "stderr",
     "text": []
    },
    {
     "output_type": "stream",
     "name": "stdout",
     "text": [
      "DataFrame[addr: string, var_vin: double]\n",
      "DataFrame[addr: string, var_vout: double]\n",
      "DataFrame[addr: string, unique_deg_in: bigint]\n",
      "DataFrame[addr: string, unique_deg_out: bigint]\n",
      "DataFrame[addr: string, deg_in: bigint]\n",
      "DataFrame[addr: string, deg_out: bigint]\n",
      "DataFrame[addr: string, balance: double]\n",
      "DataFrame[addr: string, received_value: double]\n",
      "DataFrame[addr: string, total_txs: double]\n"
     ]
    }
   ],
   "metadata": {}
  },
  {
   "cell_type": "code",
   "execution_count": 6,
   "source": [
    "\n",
    "pandas_df = final_df.toPandas().fillna(0)\n",
    "pandas_df\n"
   ],
   "outputs": [
    {
     "output_type": "stream",
     "name": "stderr",
     "text": []
    },
    {
     "output_type": "execute_result",
     "data": {
      "text/html": [
       "<div>\n",
       "<style scoped>\n",
       "    .dataframe tbody tr th:only-of-type {\n",
       "        vertical-align: middle;\n",
       "    }\n",
       "\n",
       "    .dataframe tbody tr th {\n",
       "        vertical-align: top;\n",
       "    }\n",
       "\n",
       "    .dataframe thead th {\n",
       "        text-align: right;\n",
       "    }\n",
       "</style>\n",
       "<table border=\"1\" class=\"dataframe\">\n",
       "  <thead>\n",
       "    <tr style=\"text-align: right;\">\n",
       "      <th></th>\n",
       "      <th>addr</th>\n",
       "      <th>avg_vin</th>\n",
       "      <th>avg_vout</th>\n",
       "      <th>var_vin</th>\n",
       "      <th>var_vout</th>\n",
       "      <th>unique_deg_in</th>\n",
       "      <th>unique_deg_out</th>\n",
       "      <th>deg_in</th>\n",
       "      <th>deg_out</th>\n",
       "      <th>balance</th>\n",
       "      <th>received_value</th>\n",
       "      <th>total_txs</th>\n",
       "    </tr>\n",
       "  </thead>\n",
       "  <tbody>\n",
       "    <tr>\n",
       "      <th>0</th>\n",
       "      <td>1A7HLMwmERQbWPYnsCHv2Rg9QRPFy7wpXG</td>\n",
       "      <td>0.060408</td>\n",
       "      <td>0.067190</td>\n",
       "      <td>1.980847e-03</td>\n",
       "      <td>1.638763e-03</td>\n",
       "      <td>7</td>\n",
       "      <td>41.0</td>\n",
       "      <td>55</td>\n",
       "      <td>88.0</td>\n",
       "      <td>0.152927</td>\n",
       "      <td>334.842091</td>\n",
       "      <td>3288.0</td>\n",
       "    </tr>\n",
       "    <tr>\n",
       "      <th>1</th>\n",
       "      <td>1AMuZfAwjmUEStt8Jd19ZM1BLqWGT8fNb</td>\n",
       "      <td>0.014916</td>\n",
       "      <td>0.020588</td>\n",
       "      <td>2.506676e-04</td>\n",
       "      <td>3.593302e-04</td>\n",
       "      <td>36</td>\n",
       "      <td>22.0</td>\n",
       "      <td>61</td>\n",
       "      <td>44.0</td>\n",
       "      <td>0.002003</td>\n",
       "      <td>0.992379</td>\n",
       "      <td>87.0</td>\n",
       "    </tr>\n",
       "    <tr>\n",
       "      <th>2</th>\n",
       "      <td>1atFpweBezrV8jw26MBFKPJE8WmwSSPnh</td>\n",
       "      <td>0.000415</td>\n",
       "      <td>0.000000</td>\n",
       "      <td>0.000000e+00</td>\n",
       "      <td>0.000000e+00</td>\n",
       "      <td>1</td>\n",
       "      <td>0.0</td>\n",
       "      <td>1</td>\n",
       "      <td>0.0</td>\n",
       "      <td>0.000415</td>\n",
       "      <td>0.000415</td>\n",
       "      <td>1.0</td>\n",
       "    </tr>\n",
       "    <tr>\n",
       "      <th>3</th>\n",
       "      <td>1A6HyDLS5nVtoL4Vt8hYhPKyPFm1ZDWH5a</td>\n",
       "      <td>0.077364</td>\n",
       "      <td>0.117141</td>\n",
       "      <td>1.198766e-02</td>\n",
       "      <td>1.292248e-02</td>\n",
       "      <td>881</td>\n",
       "      <td>41.0</td>\n",
       "      <td>1055</td>\n",
       "      <td>43.0</td>\n",
       "      <td>0.028357</td>\n",
       "      <td>6.498035</td>\n",
       "      <td>61.0</td>\n",
       "    </tr>\n",
       "    <tr>\n",
       "      <th>4</th>\n",
       "      <td>1AjbRiByDPqxNAfVbbtt1YVrJSbFvoz6S9</td>\n",
       "      <td>0.022336</td>\n",
       "      <td>0.030276</td>\n",
       "      <td>3.541730e-04</td>\n",
       "      <td>6.973680e-04</td>\n",
       "      <td>23</td>\n",
       "      <td>3.0</td>\n",
       "      <td>25</td>\n",
       "      <td>23.0</td>\n",
       "      <td>0.008472</td>\n",
       "      <td>0.402055</td>\n",
       "      <td>18.0</td>\n",
       "    </tr>\n",
       "    <tr>\n",
       "      <th>...</th>\n",
       "      <td>...</td>\n",
       "      <td>...</td>\n",
       "      <td>...</td>\n",
       "      <td>...</td>\n",
       "      <td>...</td>\n",
       "      <td>...</td>\n",
       "      <td>...</td>\n",
       "      <td>...</td>\n",
       "      <td>...</td>\n",
       "      <td>...</td>\n",
       "      <td>...</td>\n",
       "      <td>...</td>\n",
       "    </tr>\n",
       "    <tr>\n",
       "      <th>176</th>\n",
       "      <td>1AMcx6uau88bUGKUPiBd3327ewPYdBmZ54</td>\n",
       "      <td>0.001036</td>\n",
       "      <td>0.000000</td>\n",
       "      <td>0.000000e+00</td>\n",
       "      <td>0.000000e+00</td>\n",
       "      <td>1</td>\n",
       "      <td>0.0</td>\n",
       "      <td>1</td>\n",
       "      <td>0.0</td>\n",
       "      <td>0.001036</td>\n",
       "      <td>0.001036</td>\n",
       "      <td>1.0</td>\n",
       "    </tr>\n",
       "    <tr>\n",
       "      <th>177</th>\n",
       "      <td>1AjhkuTMVBoBRAXBzMXR1bz9ptBSpYMeD</td>\n",
       "      <td>0.015000</td>\n",
       "      <td>0.000000</td>\n",
       "      <td>0.000000e+00</td>\n",
       "      <td>0.000000e+00</td>\n",
       "      <td>1</td>\n",
       "      <td>0.0</td>\n",
       "      <td>1</td>\n",
       "      <td>0.0</td>\n",
       "      <td>0.015000</td>\n",
       "      <td>0.015000</td>\n",
       "      <td>1.0</td>\n",
       "    </tr>\n",
       "    <tr>\n",
       "      <th>178</th>\n",
       "      <td>1AGdBrCsVJLXLBBVmAgqG77j6LnesE2gbG</td>\n",
       "      <td>0.003039</td>\n",
       "      <td>0.003039</td>\n",
       "      <td>0.000000e+00</td>\n",
       "      <td>0.000000e+00</td>\n",
       "      <td>2</td>\n",
       "      <td>2.0</td>\n",
       "      <td>2</td>\n",
       "      <td>2.0</td>\n",
       "      <td>0.000000</td>\n",
       "      <td>0.003039</td>\n",
       "      <td>1.0</td>\n",
       "    </tr>\n",
       "    <tr>\n",
       "      <th>179</th>\n",
       "      <td>1AR6AUZdcD7GRkCt3M3356dvPcs2VxMKai</td>\n",
       "      <td>0.002119</td>\n",
       "      <td>0.000000</td>\n",
       "      <td>0.000000e+00</td>\n",
       "      <td>0.000000e+00</td>\n",
       "      <td>3</td>\n",
       "      <td>0.0</td>\n",
       "      <td>3</td>\n",
       "      <td>0.0</td>\n",
       "      <td>0.002119</td>\n",
       "      <td>0.002119</td>\n",
       "      <td>1.0</td>\n",
       "    </tr>\n",
       "    <tr>\n",
       "      <th>180</th>\n",
       "      <td>1AUzDg3EkrA8VLiYFqE1si8vqJWTVqhZeG</td>\n",
       "      <td>0.001777</td>\n",
       "      <td>0.002522</td>\n",
       "      <td>1.513244e-07</td>\n",
       "      <td>4.222364e-07</td>\n",
       "      <td>6</td>\n",
       "      <td>2.0</td>\n",
       "      <td>6</td>\n",
       "      <td>4.0</td>\n",
       "      <td>0.001317</td>\n",
       "      <td>0.008884</td>\n",
       "      <td>5.0</td>\n",
       "    </tr>\n",
       "  </tbody>\n",
       "</table>\n",
       "<p>181 rows × 12 columns</p>\n",
       "</div>"
      ],
      "text/plain": [
       "                                   addr   avg_vin  avg_vout       var_vin  \\\n",
       "0    1A7HLMwmERQbWPYnsCHv2Rg9QRPFy7wpXG  0.060408  0.067190  1.980847e-03   \n",
       "1     1AMuZfAwjmUEStt8Jd19ZM1BLqWGT8fNb  0.014916  0.020588  2.506676e-04   \n",
       "2     1atFpweBezrV8jw26MBFKPJE8WmwSSPnh  0.000415  0.000000  0.000000e+00   \n",
       "3    1A6HyDLS5nVtoL4Vt8hYhPKyPFm1ZDWH5a  0.077364  0.117141  1.198766e-02   \n",
       "4    1AjbRiByDPqxNAfVbbtt1YVrJSbFvoz6S9  0.022336  0.030276  3.541730e-04   \n",
       "..                                  ...       ...       ...           ...   \n",
       "176  1AMcx6uau88bUGKUPiBd3327ewPYdBmZ54  0.001036  0.000000  0.000000e+00   \n",
       "177   1AjhkuTMVBoBRAXBzMXR1bz9ptBSpYMeD  0.015000  0.000000  0.000000e+00   \n",
       "178  1AGdBrCsVJLXLBBVmAgqG77j6LnesE2gbG  0.003039  0.003039  0.000000e+00   \n",
       "179  1AR6AUZdcD7GRkCt3M3356dvPcs2VxMKai  0.002119  0.000000  0.000000e+00   \n",
       "180  1AUzDg3EkrA8VLiYFqE1si8vqJWTVqhZeG  0.001777  0.002522  1.513244e-07   \n",
       "\n",
       "         var_vout  unique_deg_in  unique_deg_out  deg_in  deg_out   balance  \\\n",
       "0    1.638763e-03              7            41.0      55     88.0  0.152927   \n",
       "1    3.593302e-04             36            22.0      61     44.0  0.002003   \n",
       "2    0.000000e+00              1             0.0       1      0.0  0.000415   \n",
       "3    1.292248e-02            881            41.0    1055     43.0  0.028357   \n",
       "4    6.973680e-04             23             3.0      25     23.0  0.008472   \n",
       "..            ...            ...             ...     ...      ...       ...   \n",
       "176  0.000000e+00              1             0.0       1      0.0  0.001036   \n",
       "177  0.000000e+00              1             0.0       1      0.0  0.015000   \n",
       "178  0.000000e+00              2             2.0       2      2.0  0.000000   \n",
       "179  0.000000e+00              3             0.0       3      0.0  0.002119   \n",
       "180  4.222364e-07              6             2.0       6      4.0  0.001317   \n",
       "\n",
       "     received_value  total_txs  \n",
       "0        334.842091     3288.0  \n",
       "1          0.992379       87.0  \n",
       "2          0.000415        1.0  \n",
       "3          6.498035       61.0  \n",
       "4          0.402055       18.0  \n",
       "..              ...        ...  \n",
       "176        0.001036        1.0  \n",
       "177        0.015000        1.0  \n",
       "178        0.003039        1.0  \n",
       "179        0.002119        1.0  \n",
       "180        0.008884        5.0  \n",
       "\n",
       "[181 rows x 12 columns]"
      ]
     },
     "metadata": {},
     "execution_count": 6
    }
   ],
   "metadata": {}
  },
  {
   "cell_type": "code",
   "execution_count": 11,
   "source": [
    "pandas_df['addr'] = pandas_df['addr'].astype(str)\n",
    "\n",
    "from database import *\n",
    "\n",
    "pandas_df.to_sql('wallets_meta', engine,  if_exists='replace', index=False, )\n"
   ],
   "outputs": [],
   "metadata": {}
  },
  {
   "cell_type": "markdown",
   "source": [
    "### Machine Learning\n",
    "Here there is code for PCA + KMeans"
   ],
   "metadata": {}
  },
  {
   "cell_type": "code",
   "execution_count": 13,
   "source": [
    "import sklearn.preprocessing\n",
    "import pandas as pd\n",
    "\n",
    "\n",
    "\n",
    "\n",
    "pandas_df = pd.read_sql_table('wallets_meta', engine)\n",
    "\n",
    "data = pandas_df.loc[:, pandas_df.columns != 'addr'].to_numpy()\n",
    "norm_data = sklearn.preprocessing.normalize(data)\n"
   ],
   "outputs": [],
   "metadata": {}
  },
  {
   "cell_type": "code",
   "execution_count": 14,
   "source": [
    "from sklearn.decomposition import PCA\n",
    "pca = PCA(2)\n",
    "pca = pca.fit(norm_data)\n",
    "grid = pca.transform(norm_data)"
   ],
   "outputs": [],
   "metadata": {}
  },
  {
   "cell_type": "code",
   "execution_count": null,
   "source": [
    "\n",
    "from sklearn.cluster import KMeans\n",
    "kmeans = KMeans(3)\n",
    "kmeans.fit(norm_data)\n",
    "color_number = kmeans.predict(norm_data)\n",
    "\n",
    "colors = [ ['r','g','b'][i] for i in color_number]\n",
    "print(colors)\n"
   ],
   "outputs": [
    {
     "output_type": "stream",
     "name": "stdout",
     "text": [
      "['b', 'g', 'r', 'r', 'g', 'r', 'r', 'g', 'g', 'r', 'g', 'g', 'g', 'r', 'r', 'r', 'g', 'r', 'g', 'r', 'g', 'g', 'r', 'g', 'b', 'g', 'b', 'b', 'r', 'r', 'g', 'g', 'b', 'g', 'g', 'g', 'b', 'r', 'g', 'g', 'b', 'r', 'g', 'g', 'g', 'b', 'g', 'g', 'r', 'b', 'r', 'g', 'b', 'r', 'b', 'r', 'g', 'b', 'b', 'g', 'g', 'b', 'r', 'b', 'g', 'r', 'r', 'g', 'r', 'b', 'b', 'b', 'g', 'r', 'b', 'r', 'b', 'g', 'g', 'b', 'r', 'r', 'g', 'g', 'r', 'r', 'r', 'g', 'g', 'g', 'r', 'b', 'r', 'r', 'r', 'r', 'g', 'g', 'g', 'b', 'r', 'g', 'g', 'r', 'b', 'b', 'r', 'g', 'g', 'g', 'g', 'r', 'b', 'b', 'r', 'b', 'r', 'r', 'g', 'r', 'g', 'g', 'r', 'r', 'b', 'b', 'g', 'b', 'r', 'g', 'r', 'r', 'b', 'g', 'g', 'r', 'r', 'r', 'g', 'g', 'r', 'g', 'r', 'g', 'b', 'g', 'g', 'r', 'r', 'r', 'r', 'b', 'b', 'g', 'r', 'r', 'r', 'r', 'b', 'r', 'r', 'g', 'g', 'g', 'b', 'r', 'b', 'b', 'r', 'g', 'r', 'g', 'r', 'r', 'g', 'g', 'r', 'r', 'g', 'r', 'g']\n"
     ]
    }
   ],
   "metadata": {}
  },
  {
   "cell_type": "code",
   "execution_count": null,
   "source": [
    "import matplotlib.pyplot as plt\n",
    "plt.scatter(*grid.T, c=colors)"
   ],
   "outputs": [
    {
     "output_type": "execute_result",
     "data": {
      "text/plain": [
       "<matplotlib.collections.PathCollection at 0x135622610>"
      ]
     },
     "metadata": {},
     "execution_count": 53
    },
    {
     "output_type": "display_data",
     "data": {
      "image/png": "[encoded data removed]",
      "text/plain": [
       "<Figure size 432x288 with 1 Axes>"
      ]
     },
     "metadata": {
      "needs_background": "light"
     }
    }
   ],
   "metadata": {}
  }
 ],
 "metadata": {
  "orig_nbformat": 4,
  "language_info": {
   "name": "python",
   "version": "3.9.7",
   "mimetype": "text/x-python",
   "codemirror_mode": {
    "name": "ipython",
    "version": 3
   },
   "pygments_lexer": "ipython3",
   "nbconvert_exporter": "python",
   "file_extension": ".py"
  },
  "kernelspec": {
   "name": "python3",
   "display_name": "Python 3.9.7 64-bit ('venv': venv)"
  },
  "interpreter": {
   "hash": "d9527fc335a184afa4be33f8fd6b35650add2817d9721d60af9d197c62cf899b"
  }
 },
 "nbformat": 4,
 "nbformat_minor": 2
}